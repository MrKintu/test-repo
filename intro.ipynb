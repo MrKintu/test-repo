{
 "cells": [
  {
   "cell_type": "markdown",
   "metadata": {},
   "source": [
    "This is the first Code."
   ]
  },
  {
   "cell_type": "markdown",
   "metadata": {},
   "source": [
    "Create Function to calculate Newton's Law of Universal Graviation."
   ]
  },
  {
   "cell_type": "code",
   "execution_count": 1,
   "metadata": {},
   "outputs": [],
   "source": [
    "def gravity(mass1, mass2, dist):\n",
    "    force = 9.81 * ((mass1 * mass2)/(dist**2))\n",
    "    return force"
   ]
  },
  {
   "cell_type": "markdown",
   "metadata": {},
   "source": [
    "Call Function"
   ]
  },
  {
   "cell_type": "code",
   "execution_count": 2,
   "metadata": {},
   "outputs": [
    {
     "name": "stdout",
     "output_type": "stream",
     "text": [
      "The force of gravity between the two planets is 0.253425N.\n"
     ]
    }
   ],
   "source": [
    "mass1 = float(input(\"Please enter the mass of the first planet:\"))\n",
    "mass2 = float(input(\"Please enter the mass of the second planet:\"))\n",
    "distance = float(input(\"Please enter the distance between the two planets:\"))\n",
    "force = gravity(mass1, mass2, distance)\n",
    "\n",
    "print(f\"The force of gravity between the two planets is {force}N.\")"
   ]
  }
 ],
 "metadata": {
  "kernelspec": {
   "display_name": "Python 3",
   "language": "python",
   "name": "python3"
  },
  "language_info": {
   "codemirror_mode": {
    "name": "ipython",
    "version": 3
   },
   "file_extension": ".py",
   "mimetype": "text/x-python",
   "name": "python",
   "nbconvert_exporter": "python",
   "pygments_lexer": "ipython3",
   "version": "3.12.0"
  }
 },
 "nbformat": 4,
 "nbformat_minor": 2
}
